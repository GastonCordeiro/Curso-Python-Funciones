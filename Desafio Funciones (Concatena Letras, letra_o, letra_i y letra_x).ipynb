{
 "cells": [
  {
   "cell_type": "code",
   "execution_count": 1,
   "metadata": {},
   "outputs": [],
   "source": [
    "from string import ascii_lowercase\n",
    "import math\n",
    "\n",
    "def gen(cant):\n",
    "    tmp = math.ceil(cant / len(ascii_lowercase)) * ascii_lowercase\n",
    "    cont = 0\n",
    "    letras = \" \"\n",
    "    while cont < cant:\n",
    "        letras += tmp[cont]\n",
    "        cont += 1\n",
    "    print(letras)"
   ]
  },
  {
   "cell_type": "code",
   "execution_count": 2,
   "metadata": {},
   "outputs": [
    {
     "name": "stdout",
     "output_type": "stream",
     "text": [
      " abcdefghijklmnopqrstuvwxyzabcdefghijklmnopqrstuvwxyzabcdefghijklmnopqrstuvwxyzabcdefghijklmnopqrstuv\n"
     ]
    }
   ],
   "source": [
    "gen(100)"
   ]
  },
  {
   "cell_type": "code",
   "execution_count": 3,
   "metadata": {},
   "outputs": [
    {
     "data": {
      "text/plain": [
       "100"
      ]
     },
     "execution_count": 3,
     "metadata": {},
     "output_type": "execute_result"
    }
   ],
   "source": [
    "len(\"abcdefghijklmnopqrstuvwxyzabcdefghijklmnopqrstuvwxyzabcdefghijklmnopqrstuvwxyzabcdefghijklmnopqrstuv\")"
   ]
  },
  {
   "cell_type": "code",
   "execution_count": 4,
   "metadata": {},
   "outputs": [],
   "source": [
    "def letra_o(num):\n",
    "    \n",
    "    ast=\"*\"\n",
    "   \n",
    "    for i in range(num):\n",
    "        ast += \"*\"\n",
    "   \n",
    "    ast += \"\\n\"\n",
    "    \n",
    "    astmed = \"\"\n",
    "    \n",
    "    for i in range(num-1):\n",
    "         astmed += \"*\" + \" \"*(num-1) + \"*\\n\"\n",
    "    \n",
    "    print(ast+astmed+ast)\n",
    "    \n",
    "   "
   ]
  },
  {
   "cell_type": "code",
   "execution_count": 5,
   "metadata": {},
   "outputs": [
    {
     "name": "stdout",
     "output_type": "stream",
     "text": [
      "***********\n",
      "*         *\n",
      "*         *\n",
      "*         *\n",
      "*         *\n",
      "*         *\n",
      "*         *\n",
      "*         *\n",
      "*         *\n",
      "*         *\n",
      "***********\n",
      "\n"
     ]
    }
   ],
   "source": [
    "letra_o(10)"
   ]
  },
  {
   "cell_type": "code",
   "execution_count": 6,
   "metadata": {},
   "outputs": [],
   "source": [
    "def letra_i(num):\n",
    "    if num%2==0:\n",
    "        num-=1\n",
    "    \n",
    "    ast=\"\"\n",
    "    for i in range(num):\n",
    "        ast +=\"*\"\n",
    "        if i == num-1:\n",
    "            ast += \"\\n\"\n",
    "    \n",
    "    astmed=\"\"\n",
    "\n",
    "    for i in range(num):\n",
    "        if i%2==0:\n",
    "            astmed += \" \"*int(num/2) + \"*\"\n",
    "        else:\n",
    "            astmed += \"\\n\"\n",
    "            \n",
    "        \n",
    "    astmed += \"\\n\"\n",
    "    print(ast+astmed+ast)"
   ]
  },
  {
   "cell_type": "code",
   "execution_count": 7,
   "metadata": {},
   "outputs": [
    {
     "name": "stdout",
     "output_type": "stream",
     "text": [
      "*****\n",
      "  *\n",
      "  *\n",
      "  *\n",
      "*****\n",
      "\n"
     ]
    }
   ],
   "source": [
    "letra_i(5)"
   ]
  },
  {
   "cell_type": "code",
   "execution_count": 10,
   "metadata": {},
   "outputs": [],
   "source": [
    "def letra_x(n):\n",
    "    asterix = \"\"\n",
    "    if n%2!=0:\n",
    "        for i in range(n): \n",
    "            if i < math.floor(n/2): \n",
    "                asterix += (\" \"*i) + \"*\" + \" \"*int(n-2-i*2) + \"*\\n\" \n",
    "            elif i == math.floor(n/2): \n",
    "                asterix += \" \"*i + \"*\\n\"\n",
    "            else: \n",
    "                if i == n-1:\n",
    "                    asterix += \" \"*(n-i-1) + \"*\" + \" \"*(i*2-n) + \"*\"     \n",
    "                else:\n",
    "                    asterix += \" \"*(n-i-1) + \"*\" + \" \"*(i*2-n) + \"*\\n\"          \n",
    "    else:\n",
    "        for i in range(n+1): \n",
    "            if i < math.floor(n/2): \n",
    "                asterix += (\" \"*i) + \"*\" + \" \"*int(n-1-i*2) + \"*\\n\" \n",
    "            elif i == math.floor(n/2): \n",
    "                asterix += \" \"*i + \"*\\n\"\n",
    "            else:\n",
    "                if i == n:\n",
    "                    asterix += \" \"*(n-i) + \"*\" + \" \"*(i*2-n-1) + \"*\"\n",
    "                else:\n",
    "                    asterix += \" \"*(n-i) + \"*\" + \" \"*(i*2-n-1) + \"*\\n\"\n",
    "\n",
    "    print(asterix)\n",
    "    \n"
   ]
  },
  {
   "cell_type": "code",
   "execution_count": 11,
   "metadata": {},
   "outputs": [
    {
     "name": "stdout",
     "output_type": "stream",
     "text": [
      "*   *\n",
      " * *\n",
      "  *\n",
      " * *\n",
      "*   *\n"
     ]
    }
   ],
   "source": [
    "letra_x(5)"
   ]
  },
  {
   "cell_type": "code",
   "execution_count": null,
   "metadata": {},
   "outputs": [],
   "source": []
  },
  {
   "cell_type": "code",
   "execution_count": null,
   "metadata": {},
   "outputs": [],
   "source": []
  }
 ],
 "metadata": {
  "kernelspec": {
   "display_name": "Python 3",
   "language": "python",
   "name": "python3"
  },
  "language_info": {
   "codemirror_mode": {
    "name": "ipython",
    "version": 3
   },
   "file_extension": ".py",
   "mimetype": "text/x-python",
   "name": "python",
   "nbconvert_exporter": "python",
   "pygments_lexer": "ipython3",
   "version": "3.7.3"
  }
 },
 "nbformat": 4,
 "nbformat_minor": 2
}
